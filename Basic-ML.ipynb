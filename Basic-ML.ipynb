{
  "nbformat": 4,
  "nbformat_minor": 0,
  "metadata": {
    "colab": {
      "name": "Copy of Copy of Untitled0.ipynb",
      "provenance": [],
      "authorship_tag": "ABX9TyMOU2XergXOP0/0EB+iW0/9",
      "include_colab_link": true
    },
    "kernelspec": {
      "name": "python3",
      "display_name": "Python 3"
    },
    "language_info": {
      "name": "python"
    }
  },
  "cells": [
    {
      "cell_type": "markdown",
      "metadata": {
        "id": "view-in-github",
        "colab_type": "text"
      },
      "source": [
        "<a href=\"https://colab.research.google.com/github/NandiniNagothu/Basic-ML/blob/main/Basic-ML.ipynb\" target=\"_parent\"><img src=\"https://colab.research.google.com/assets/colab-badge.svg\" alt=\"Open In Colab\"/></a>"
      ]
    },
    {
      "cell_type": "markdown",
      "metadata": {
        "id": "Pst8DlFAEvKW"
      },
      "source": [
        "1)SUM OF DIGITS"
      ]
    },
    {
      "cell_type": "code",
      "metadata": {
        "colab": {
          "base_uri": "https://localhost:8080/"
        },
        "id": "FeTBLGySEy8v",
        "outputId": "62d8a2e0-41fc-431b-c965-aabee530e201"
      },
      "source": [
        "a=257\n",
        "x=a%10\n",
        "y=a//10%10\n",
        "z=a//10//10\n",
        "print(x+y+z)"
      ],
      "execution_count": null,
      "outputs": [
        {
          "output_type": "stream",
          "text": [
            "14\n"
          ],
          "name": "stdout"
        }
      ]
    },
    {
      "cell_type": "markdown",
      "metadata": {
        "id": "uGwFQeq9FsFD"
      },
      "source": [
        "Explanation:\n",
        "1.consider a number and store it in a variable called a.\n",
        "2.In order to get sum of digits of a three digits number,caluclate:\n",
        "    a) one's digit (a%10-remainder)\n",
        "    b) ten's digit(a//10%10-remainder    of quotient of a)\n",
        "    c)hundreds digit(a//10//10)\n",
        "3.add ones digit, ten's digit and hundreds digit."
      ]
    },
    {
      "cell_type": "markdown",
      "metadata": {
        "id": "BT3qaYcDG6Z9"
      },
      "source": [
        " 2) MINIMUM OF TWO NUMBERS."
      ]
    },
    {
      "cell_type": "code",
      "metadata": {
        "colab": {
          "base_uri": "https://localhost:8080/"
        },
        "id": "cJS_j2NfHBb3",
        "outputId": "f072cd90-fa18-453d-fb52-13d906233a92"
      },
      "source": [
        "a=7\n",
        "b=3\n",
        "if a>b:\n",
        "    print (b)\n",
        "else:\n",
        "    print (a)"
      ],
      "execution_count": null,
      "outputs": [
        {
          "output_type": "stream",
          "text": [
            "3\n"
          ],
          "name": "stdout"
        }
      ]
    },
    {
      "cell_type": "markdown",
      "metadata": {
        "id": "52RVo89NHUWZ"
      },
      "source": [
        "Explanation:\n",
        "1.consider two numbers a and b.\n",
        "2.check whether a is greater or b is greater.\n",
        "3.if a is greater,print b.\n",
        "4.if b is greater , print a."
      ]
    },
    {
      "cell_type": "code",
      "metadata": {
        "id": "ubOAIgKqHwXo"
      },
      "source": [
        "3)SUM OF N NUMBERS."
      ],
      "execution_count": null,
      "outputs": []
    },
    {
      "cell_type": "code",
      "metadata": {
        "colab": {
          "base_uri": "https://localhost:8080/"
        },
        "id": "IFtNN7McH2F3",
        "outputId": "c6ba568c-48cf-45a9-edf1-2c8236e46f93"
      },
      "source": [
        "n=10\n",
        "k=0\n",
        "i=0\n",
        "for i in range(n):\n",
        "    k+=n\n",
        "    i+=1\n",
        "print (k)"
      ],
      "execution_count": null,
      "outputs": [
        {
          "output_type": "stream",
          "text": [
            "100\n"
          ],
          "name": "stdout"
        }
      ]
    },
    {
      "cell_type": "markdown",
      "metadata": {
        "id": "AewNO3I2IWTc"
      },
      "source": [
        "Explanation:\n",
        "1.consider input n.\n",
        "2.Assign k,i to 0.\n",
        "3.use for loop in range n.\n",
        "4.k=k+n\n",
        "5.print k"
      ]
    }
  ]
}